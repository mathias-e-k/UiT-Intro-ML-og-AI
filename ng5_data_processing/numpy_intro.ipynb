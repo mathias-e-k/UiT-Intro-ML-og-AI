{
 "cells": [
  {
   "cell_type": "markdown",
   "metadata": {},
   "source": [
    "# Introduksjon til NumPy\n",
    "\n",
    "NumPy er en Python-modul som brukes for å jobbe med _arrays_. Hvert element i et array er av samme _datatype_. Typiske datatyper er heltall (int) og flyttall (float), men man kan også ha tekststrenger i arrays.\n",
    "\n",
    "Noe av poenget med å bruke arrays er at hvert element er av samme type og dermed tar samme mengde plass. For eksempel vil et array av type \"int32\" (32-bits heltall) bruke eksakt 32 bit per element. Dette gjør at arrayet kan lagres som en kontinuerlig \"blokk\" i minnet og aksesseres veldig raskt. Metodene vi bruker for å manupulere NumPy-arrays er også implementert i C, som gjør at koden kjører raskere enn om man bruker ren Python.\n",
    "\n",
    "### Importere modulen\n",
    "Først importerer vi numpy. Det er standard å \"forkorte\" navnet til np.\n"
   ]
  },
  {
   "cell_type": "code",
   "execution_count": 1,
   "metadata": {},
   "outputs": [],
   "source": [
    "import numpy as np"
   ]
  },
  {
   "cell_type": "markdown",
   "metadata": {},
   "source": [
    "## Opprette array fra liste e.l.\n",
    "Vi kan opprette et array fra scratch fra ei liste eller en tuple. Hvis man ikke oppgir datatypen spesifikt, settes den basert på innholdet i lista."
   ]
  },
  {
   "cell_type": "code",
   "execution_count": 2,
   "metadata": {},
   "outputs": [
    {
     "name": "stdout",
     "output_type": "stream",
     "text": [
      "Array x=array([3, 2, 7]), har datatype int32 og størrelse (3,)\n"
     ]
    }
   ],
   "source": [
    "# Array fra liste med heltall\n",
    "x = np.array([3,2,7])\n",
    "print(f'Array {x=}, har datatype {x.dtype} og størrelse {x.shape}')"
   ]
  },
  {
   "cell_type": "code",
   "execution_count": 3,
   "metadata": {},
   "outputs": [
    {
     "name": "stdout",
     "output_type": "stream",
     "text": [
      "Array y=array([1.430e+01, 3.336e-01, 3.760e+02]), har datatype float64 og størrelse (3,)\n"
     ]
    }
   ],
   "source": [
    "# Array fra tuple med desimaltall\n",
    "y = np.array((14.3, 0.3336, 376))\n",
    "print(f'Array {y=}, har datatype {y.dtype} og størrelse {y.shape}')"
   ]
  },
  {
   "cell_type": "code",
   "execution_count": 4,
   "metadata": {},
   "outputs": [
    {
     "name": "stdout",
     "output_type": "stream",
     "text": [
      "Array z=array(['The', 'quick', 'brown', 'fox', 'jumps', 'over', 'the', 'lazy',\n",
      "       'dog'], dtype='<U5'), har datatype <U5 og størrelse (9,)\n"
     ]
    }
   ],
   "source": [
    "# Array fra liste av ord\n",
    "z = np.array(['The', 'quick', 'brown', 'fox', 'jumps', 'over', 'the', 'lazy', 'dog'])\n",
    "print(f'Array {z=}, har datatype {z.dtype} og størrelse {z.shape}')"
   ]
  },
  {
   "cell_type": "markdown",
   "metadata": {},
   "source": [
    "Datatypen \"<U5\" betyr her at hvert element er en tekststreng kodet med Unicode (U). Hver bokstav kodes med 4 bytes, som leses som \"little-endian\" (<). Hvert element i arrayet har plass til tekst med maksimalt 5 bokstaver. Hvis man prøver å sette et element til et lengre ord, vil det bli forkortet til 5 bokstaver:"
   ]
  },
  {
   "cell_type": "code",
   "execution_count": 5,
   "metadata": {},
   "outputs": [
    {
     "name": "stdout",
     "output_type": "stream",
     "text": [
      "Artif\n"
     ]
    }
   ],
   "source": [
    "z[0] = 'Artificial'\n",
    "print(z[0])"
   ]
  },
  {
   "cell_type": "markdown",
   "metadata": {},
   "source": [
    "Hvis man blander ulike typer data er det vanskeligere å forutsi hvilken type arrayet får. I slike tilfeller er det best å sette datatype eksplisitt. Tekststrenger som representerer tall kan konverteres \"automatisk\" til tall."
   ]
  },
  {
   "cell_type": "code",
   "execution_count": 6,
   "metadata": {},
   "outputs": [
    {
     "name": "stdout",
     "output_type": "stream",
     "text": [
      "Array a=array(['3', '4'], dtype='<U11'), har datatype <U11 og størrelse (2,)\n"
     ]
    }
   ],
   "source": [
    "# Blandede data, setter ikke dtype\n",
    "a = np.array([3,'4'])\n",
    "print(f'Array {a=}, har datatype {a.dtype} og størrelse {a.shape}')"
   ]
  },
  {
   "cell_type": "code",
   "execution_count": 7,
   "metadata": {},
   "outputs": [
    {
     "name": "stdout",
     "output_type": "stream",
     "text": [
      "Array b=array([3, 4]), har datatype int32 og størrelse (2,)\n"
     ]
    }
   ],
   "source": [
    "# Blandede data, setter dtype\n",
    "b = np.array([3,'4'],dtype=int)\n",
    "print(f'Array {b=}, har datatype {b.dtype} og størrelse {b.shape}')"
   ]
  },
  {
   "cell_type": "markdown",
   "metadata": {},
   "source": [
    "## Arrays i flere dimensjoner - vektorer og matriser\n",
    "Et NumPy-array kan ha 1, 2 eller flere dimensjoner. Vi kjenner 1-dimensjonale arrays fra matematikken som vektorer, og 2-dimensjonale arrays som matriser. Et mer generelt navn på n-dimensjonale arrays (n=1,2,3,4,...) er tensorer. Vi skal holde oss til vektorer og matriser i dette faget. \n",
    "\n",
    "Eksemplene over var alle vektorer.  Vi kan lage en matrise basert på en liste av lister:"
   ]
  },
  {
   "cell_type": "code",
   "execution_count": 8,
   "metadata": {},
   "outputs": [
    {
     "name": "stdout",
     "output_type": "stream",
     "text": [
      "X=array([[1, 2, 1, 2],\n",
      "       [4, 1, 4, 1],\n",
      "       [1, 2, 1, 2]])\n",
      "Array X har datatype int32 og størrelse (3, 4)\n"
     ]
    }
   ],
   "source": [
    "X = np.array([[1,2,1,2],[4,1,4,1],[1,2,1,2]])\n",
    "print(f'{X=}')\n",
    "print(f'Array X har datatype {X.dtype} og størrelse {X.shape}')"
   ]
  },
  {
   "cell_type": "markdown",
   "metadata": {},
   "source": [
    "Man kan også opprette \"tomme\" array - men vi må likevel fortelle hvilken størrelse arrayet skal ha. Vi må også oppgi hvilken verdi arrayet skal fylles med - for eksempel 0 eller 1:"
   ]
  },
  {
   "cell_type": "code",
   "execution_count": 9,
   "metadata": {},
   "outputs": [
    {
     "name": "stdout",
     "output_type": "stream",
     "text": [
      "[[0. 0. 0. 0.]\n",
      " [0. 0. 0. 0.]\n",
      " [0. 0. 0. 0.]]\n",
      " \n",
      "[[1. 1. 1. 1.]\n",
      " [1. 1. 1. 1.]\n",
      " [1. 1. 1. 1.]]\n"
     ]
    }
   ],
   "source": [
    "shape = (3,4)\n",
    "X_zeros = np.zeros(shape)\n",
    "X_ones = np.ones(shape)\n",
    "print(X_zeros)\n",
    "print(' ')\n",
    "print(X_ones)"
   ]
  },
  {
   "cell_type": "markdown",
   "metadata": {},
   "source": [
    "### Operasjoner mellom arrays\n",
    "Man kan bruke vanlige matematiske operasjoner på arrays, og disse fungerer vanligvis slik man skulle forvente:"
   ]
  },
  {
   "cell_type": "code",
   "execution_count": 10,
   "metadata": {},
   "outputs": [
    {
     "name": "stdout",
     "output_type": "stream",
     "text": [
      "[[1 2 1 2]\n",
      " [4 1 4 1]\n",
      " [1 2 1 2]]\n",
      " \n",
      "[[2 3 2 3]\n",
      " [5 2 5 2]\n",
      " [2 3 2 3]]\n"
     ]
    }
   ],
   "source": [
    "# Adding an array with a scalar (single value)\n",
    "X = np.array([[1,2,1,2],[4,1,4,1],[1,2,1,2]])\n",
    "X_plus_1 = X+1\n",
    "print(X)\n",
    "print(' ')\n",
    "print(X_plus_1)"
   ]
  },
  {
   "cell_type": "code",
   "execution_count": 11,
   "metadata": {},
   "outputs": [
    {
     "name": "stdout",
     "output_type": "stream",
     "text": [
      "[ 3  6 11]\n"
     ]
    }
   ],
   "source": [
    "# Adding two arrays (element-wise)\n",
    "x1 = np.array([1,2,3])\n",
    "x2 = np.array([2,4,8])\n",
    "x_sum = x1+x2\n",
    "print(x_sum)\n"
   ]
  },
  {
   "cell_type": "code",
   "execution_count": 12,
   "metadata": {},
   "outputs": [
    {
     "name": "stdout",
     "output_type": "stream",
     "text": [
      "[ 2  8 24]\n"
     ]
    }
   ],
   "source": [
    "# Multiplying two arrays (element-wise)\n",
    "x1 = np.array([1,2,3])\n",
    "x2 = np.array([2,4,8])\n",
    "x_prod = x1*x2\n",
    "print(x_prod)"
   ]
  },
  {
   "cell_type": "markdown",
   "metadata": {},
   "source": [
    "Man kan regne ut prikkproduktet av to vektorer med funksjonen np.dot(), eller operatoren @"
   ]
  },
  {
   "cell_type": "code",
   "execution_count": 13,
   "metadata": {},
   "outputs": [
    {
     "name": "stdout",
     "output_type": "stream",
     "text": [
      "34\n",
      "34\n"
     ]
    }
   ],
   "source": [
    "# Dot product of two vectors\n",
    "x1 = np.array([1,2,3])\n",
    "x2 = np.array([2,4,8])\n",
    "x_dot_1 = np.dot(x1,x2)  # 1*2 + 2*4 + 3*8 = 34\n",
    "x_dot_2 = x1@x2\n",
    "print(x_dot_1)\n",
    "print(x_dot_2)\n"
   ]
  },
  {
   "cell_type": "markdown",
   "metadata": {},
   "source": [
    "Man kan gjøre matrisemultiplikasjon mellom to 2D array med funksjonen np.matmul(), eller operatoren @:"
   ]
  },
  {
   "cell_type": "code",
   "execution_count": 14,
   "metadata": {},
   "outputs": [
    {
     "name": "stdout",
     "output_type": "stream",
     "text": [
      "A=array([[1, 2, 3],\n",
      "       [4, 5, 6]])\n",
      "B=array([[1, 0],\n",
      "       [0, 1],\n",
      "       [1, 0]])\n",
      " \n",
      "[[ 4  2]\n",
      " [10  5]]\n",
      " \n",
      "[[ 4  2]\n",
      " [10  5]]\n"
     ]
    }
   ],
   "source": [
    "A = np.array([[1,2,3],[4,5,6]])\n",
    "B = np.array([[1,0],[0,1],[1,0]])\n",
    "print(f'{A=}')\n",
    "print(f'{B=}')\n",
    "print(' ')\n",
    "print(np.matmul(A,B))\n",
    "print(' ')\n",
    "print(A@B)\n"
   ]
  },
  {
   "cell_type": "markdown",
   "metadata": {},
   "source": [
    "## Indeksering / \"slicing\"\n",
    "Man kan hente ut deler av et array ved bruk av indeksering. Syntaksen for indeksering fungerer ganske likt som for vanlige lister, men kan gå over flere dimensjoner samtidig. I det føraste eksempelet under viser vi hvordan man kan hente ut enkeltrader / -kolonner."
   ]
  },
  {
   "cell_type": "code",
   "execution_count": 15,
   "metadata": {},
   "outputs": [
    {
     "name": "stdout",
     "output_type": "stream",
     "text": [
      "[[ 1  2  3  4]\n",
      " [ 5  6  7  8]\n",
      " [ 9 10 11 12]]\n",
      "(3, 4)\n",
      " \n",
      "Second row: [5 6 7 8]\n",
      "(4,)\n",
      " \n",
      "Third column: [ 3  7 11]\n",
      "(3,)\n"
     ]
    }
   ],
   "source": [
    "X = np.array([[1,2,3,4],[5,6,7,8],[9,10,11,12]])\n",
    "print(X)\n",
    "print(X.shape); print(' ')\n",
    "\n",
    "row = X[1,:]\n",
    "print(f'Second row: {row}')\n",
    "print(row.shape); print(' ')\n",
    "\n",
    "col = X[:,2]\n",
    "print(f'Third column: {col}')\n",
    "print(col.shape)"
   ]
  },
  {
   "cell_type": "markdown",
   "metadata": {},
   "source": [
    "Man kan også hente ut \"sub-matriser\", dvs. deler av en matrise som spenner over flere rader eller kolonner:"
   ]
  },
  {
   "cell_type": "code",
   "execution_count": 16,
   "metadata": {},
   "outputs": [
    {
     "name": "stdout",
     "output_type": "stream",
     "text": [
      "[[ 1  2  3  4]\n",
      " [ 5  6  7  8]\n",
      " [ 9 10 11 12]]\n",
      " \n",
      "Every row from index 1 and downwards:\n",
      "[[ 5  6  7  8]\n",
      " [ 9 10 11 12]]\n",
      " \n",
      "Rows 1 and 2, and columns 2 and 3\n",
      "[[2 3]\n",
      " [6 7]]\n"
     ]
    }
   ],
   "source": [
    "X = np.array([[1,2,3,4],[5,6,7,8],[9,10,11,12]])\n",
    "print(X);  print(' ')\n",
    "\n",
    "print('Every row from index 1 and downwards:')\n",
    "X1 = X[1:,:]\n",
    "print(X1); print(' ')\n",
    "\n",
    "print('Rows 1 and 2, and columns 2 and 3')\n",
    "X2 = X[0:2,1:3]\n",
    "print(X2)"
   ]
  },
  {
   "cell_type": "markdown",
   "metadata": {},
   "source": [
    "### Logisk / Boolsk indeksering\n",
    "Vi har sett at vi kan indeksere elementer i et NumPy-array ved å bruke heltall. Det er imidlertid også mulig å bruke array med Boolske verdier (True/False) til indeksering. Et par eksempler:"
   ]
  },
  {
   "cell_type": "code",
   "execution_count": 17,
   "metadata": {},
   "outputs": [
    {
     "name": "stdout",
     "output_type": "stream",
     "text": [
      "[1 3]\n"
     ]
    }
   ],
   "source": [
    "# Boolean indexing of 1D array\n",
    "ind = np.array([True,False,True,False])\n",
    "x = np.array([1,2,3,4])\n",
    "print(x[ind])"
   ]
  },
  {
   "cell_type": "code",
   "execution_count": 18,
   "metadata": {},
   "outputs": [
    {
     "name": "stdout",
     "output_type": "stream",
     "text": [
      "[[ 1  2  3  4]\n",
      " [ 5  6  7  8]\n",
      " [ 9 10 11 12]]\n",
      "\n",
      "[[ 1  3]\n",
      " [ 5  7]\n",
      " [ 9 11]]\n"
     ]
    }
   ],
   "source": [
    "# Boolean indexing along single dimension of array\n",
    "X = np.array([[1,2,3,4],[5,6,7,8],[9,10,11,12]])\n",
    "ind = np.array([True,False,True,False])\n",
    "print(X)\n",
    "print('')\n",
    "print(X[:,ind])"
   ]
  },
  {
   "cell_type": "code",
   "execution_count": 19,
   "metadata": {},
   "outputs": [
    {
     "name": "stdout",
     "output_type": "stream",
     "text": [
      "[[ 1  2  3  4]\n",
      " [ 5  6  7  8]\n",
      " [ 9 10 11 12]]\n",
      "[[ True False  True False]\n",
      " [ True  True  True False]\n",
      " [False  True False False]]\n",
      "Values where ind=True are returned in flattened array:\n",
      "[ 1  3  5  6  7 10]\n"
     ]
    }
   ],
   "source": [
    "# Boolean indexing of \"scattered\" values in array\n",
    "X = np.array([[1,2,3,4],[5,6,7,8],[9,10,11,12]])\n",
    "ind = np.array([[True,False,True,False],[True,True,True,False],[False,True,False,False]])\n",
    "print(X)\n",
    "print(ind)\n",
    "print('Values where ind=True are returned in flattened array:')\n",
    "print(X[ind])"
   ]
  },
  {
   "cell_type": "markdown",
   "metadata": {},
   "source": [
    "Boolsk indeksering er et kraftig verktøy som lar oss \"filtrere\" verdier \"on the fly\". La oss for eksempel si at vi ønsker å finne og summere alle elementer av et array som er mindre eller lik 5:"
   ]
  },
  {
   "cell_type": "code",
   "execution_count": 20,
   "metadata": {},
   "outputs": [
    {
     "name": "stdout",
     "output_type": "stream",
     "text": [
      "[7 3 9 5 3 1 6 3 4]\n",
      "[False  True False  True  True  True False  True  True]\n",
      "Sum of numbers <= 5 is 19\n"
     ]
    }
   ],
   "source": [
    "# \"Filtering\" values with Boolean indexing\n",
    "x = np.array([7,3,9,5,3,1,6,3,4])\n",
    "ind = (x<=5) \n",
    "print(x)\n",
    "print(ind)\n",
    "print(f'Sum of numbers <= 5 is {np.sum(x[x<=5])}')\n"
   ]
  },
  {
   "cell_type": "markdown",
   "metadata": {},
   "source": [
    "Man kan manipulere og kombinere Boolske arrays med operatorene & (\"and\") , | (\"or\")  og ~ (\"not\")"
   ]
  },
  {
   "cell_type": "code",
   "execution_count": 21,
   "metadata": {},
   "outputs": [
    {
     "name": "stdout",
     "output_type": "stream",
     "text": [
      "x=array([1, 2, 3, 4, 5, 6, 7, 8])\n",
      "\n",
      "Boolean array for x>2:\n",
      "[False False  True  True  True  True  True  True]\n",
      "\n",
      "Inverse (\"not\") of array x>2:\n",
      "[ True  True False False False False False False]\n",
      "\n",
      "Boolean array for x<=6:\n",
      "[ True  True  True  True  True  True False False]\n",
      "\n",
      "Boolean array for x>2 and x<=6:\n",
      "[False False  True  True  True  True False False]\n",
      "\n",
      "Boolean array for x>=5 or odd:\n",
      "[ True False  True False  True  True  True  True]\n"
     ]
    }
   ],
   "source": [
    "# Combining Boolean arrays\n",
    "x = np.array([1,2,3,4,5,6,7,8])\n",
    "ind1 = x>2\n",
    "ind2 = x<=6\n",
    "print(f'{x=}'); print('')\n",
    "print('Boolean array for x>2:')\n",
    "print(ind1); print('')\n",
    "print('Inverse (\"not\") of array x>2:')\n",
    "print(~ind1); print('')\n",
    "print('Boolean array for x<=6:')\n",
    "print(ind2); print('')\n",
    "print('Boolean array for x>2 and x<=6:')\n",
    "print(ind1 & ind2); print('')\n",
    "print('Boolean array for x>=5 or odd:')\n",
    "print((x>=5) | np.mod(x,2).astype(bool))\n"
   ]
  },
  {
   "cell_type": "markdown",
   "metadata": {},
   "source": [
    "## Broadcasting\n",
    "Numpy bruker en teknikk som kalles \"broadcasting\" i matematiske operasjoner mellom arrays som har ulik størrelse. Det kan for eksempel brukes dersom man ønsker å gange hver rad i en matrise (f.eks. $X$) med en radvektor (f.eks. $k$). Radvektoren $k$ vil da \"strekkes\" eller dupliseres langs den 1. dimensjonen i matrisa, silk at den tilsvarer en matrise av samme størrelse som $X$. Se eksempler i figur under.\n",
    "\n",
    "![broadcasting illustration](https://miro.medium.com/v2/resize:fit:720/format:webp/1*lY8Ve6Uz_bqVI5NPh5RPZA.png)\n",
    "\n",
    "(Bilde hentet fra https://towardsdatascience.com/broadcasting-in-numpy-58856f926d73)\n",
    "\n",
    "Et poeng med broadcasting er at et array som \"strekkes\" ut langs en akse ikke faktisk tar noe mer minne. Dupliseringen skjer i bakgrunnen med såkalte \"views\" av det originale arrayet. Vi ser på noen eksempler:"
   ]
  },
  {
   "cell_type": "code",
   "execution_count": 22,
   "metadata": {},
   "outputs": [
    {
     "name": "stdout",
     "output_type": "stream",
     "text": [
      "Matrix X has shape X.shape=(3, 4)\n",
      "[[ 1  2  3  4]\n",
      " [ 5  6  7  8]\n",
      " [ 9 10 11 12]]\n",
      "\n",
      "Vector k1=array([ 1,  0, -1,  0]) has shape k1.shape=(4,)\n",
      "Vector k2=array([[ 1,  0, -1,  0]]) has shape k2.shape=(1, 4)\n",
      "\n",
      "Both vectors can be broadcast when multiplying with X:\n",
      "[[  1   0  -3   0]\n",
      " [  5   0  -7   0]\n",
      " [  9   0 -11   0]]\n",
      "\n",
      "[[  1   0  -3   0]\n",
      " [  5   0  -7   0]\n",
      " [  9   0 -11   0]]\n"
     ]
    }
   ],
   "source": [
    "X = np.array([[1,2,3,4],[5,6,7,8],[9,10,11,12]])\n",
    "k1 = np.array([1,0,-1,0])\n",
    "k2 = np.array([[1,0,-1,0]])\n",
    "\n",
    "print(f'Matrix X has shape {X.shape=}')\n",
    "print(X)\n",
    "print('')\n",
    "print(f'Vector {k1=} has shape {k1.shape=}')\n",
    "print(f'Vector {k2=} has shape {k2.shape=}')\n",
    "print('')\n",
    "print('Both vectors can be broadcast when multiplying with X:')\n",
    "print(X*k1)\n",
    "print('')\n",
    "print(X*k2)"
   ]
  },
  {
   "cell_type": "markdown",
   "metadata": {},
   "source": [
    "\n",
    "Siden alt skjer i bakgrunnen kan broadcasting være litt forvirrende. Hvis du får feilmeldinger som gjelder broadcasting, skyldes det at arrayene som du prøver å bruke ikke har kompatible størrelser. Reglene for broadcasting er som følger:\n",
    "\n",
    "1. Hvis to array ikke har likt _antall_ dimensjoner, forsøker NumPy å \"padde\" arrayet som har færrest dimensjoner med flere dimensjoner på \"venstre\" side. Størrelsen av arrayet langs disse dimensjonene er 1. I eksempelet over blir vektoren k1, som har størrelse (4,) \"paddet\" slik at den får størrelse (1,4) (dvs. 1 lagt til på venstre side). \n",
    "2. Etter evt. padding (pkt. 1): Hvis arrayene ikke har samme størrelse, strekkes arrayene ut (dupliseres) langs dimensjonene der størrelsen er 1. I eksempelet over \"strekkes\" k1 og k2 langs første dimensjon slik at de går fra å ha størrelse (1,4) til (3,4), dvs. samme som X.\n",
    "3. Hvis arrayene ikke har samme størrelse i en dimensjon, og ingen av dem har størrelse 1 i denne dimensjonen, får man en feilmelding. Dette skjedde ikke i eksempelet over. \n",
    "\n",
    "Vi lager et nytt eksempel der vi ønsker å multiplisere en vektor med hver kolonne i ei matrise:"
   ]
  },
  {
   "cell_type": "code",
   "execution_count": 23,
   "metadata": {},
   "outputs": [
    {
     "name": "stdout",
     "output_type": "stream",
     "text": [
      "Matrix X has shape X.shape=(3, 4)\n",
      "[[ 1  2  3  4]\n",
      " [ 5  6  7  8]\n",
      " [ 9 10 11 12]]\n",
      "\n",
      "Vector k1=array([ 1,  0, -1]) has shape k1.shape=(3,)\n",
      "Vector k2=array([[ 1],\n",
      "       [ 0],\n",
      "       [-1]]) has shape k2.shape=(3, 1)\n",
      "\n",
      "Vector k1 can not be broadcast with X. Dimensional padding yields shape (1,3)\n",
      "Error: operands could not be broadcast together with shapes (3,4) (3,) \n",
      "\n",
      "Vector k2 can be broadcast with X. The vector is stretched to shape (3,4)\n",
      "[[  1   2   3   4]\n",
      " [  0   0   0   0]\n",
      " [ -9 -10 -11 -12]]\n"
     ]
    }
   ],
   "source": [
    "X = np.array([[1,2,3,4],[5,6,7,8],[9,10,11,12]])\n",
    "k1 = np.array([1,0,-1])\n",
    "k2 = np.array([[1],[0],[-1]])\n",
    "\n",
    "print(f'Matrix X has shape {X.shape=}')\n",
    "print(X)\n",
    "print('')\n",
    "print(f'Vector {k1=} has shape {k1.shape=}')\n",
    "print(f'Vector {k2=} has shape {k2.shape=}')\n",
    "print('')\n",
    "print('Vector k1 can not be broadcast with X. Dimensional padding yields shape (1,3)')\n",
    "try:\n",
    "    print(X*k1)\n",
    "except ValueError as e:\n",
    "    print('Error: '+ str(e))\n",
    "print('')\n",
    "print(f'Vector k2 can be broadcast with X. The vector is stretched to shape (3,4)')\n",
    "print(X*k2)\n"
   ]
  },
  {
   "cell_type": "markdown",
   "metadata": {},
   "source": [
    "## Eksempel som kombinerer flere teknikker\n",
    "La oss tenke oss at vi har et datasett representert som en stor matrise. Vi ønsker å finne ut hva som er gjennomsnittsverdien i hver rad. Etterpå ønsker vi å trekke fra denne gjennomsnittsverdien, slik at verdiene tilsvarer \"avvik fra radvis gjennomsnitt\". \n",
    "\n",
    "For å regne ut gjennomsnittsverdi langs en spesifikk dimensjon kan man bruke keyword \"axis\" i np.mean(). I en matrise er første dimensjon vertikal (axis=0, langs kolonner), og andre dimensjon er horisontal (axis=1, langs rader). "
   ]
  },
  {
   "cell_type": "code",
   "execution_count": 24,
   "metadata": {},
   "outputs": [
    {
     "name": "stdout",
     "output_type": "stream",
     "text": [
      "X has shape (4, 3)\n",
      "Row-wise mean X_mean=array([51., 55., 57., 45.]), with shape (4,)\n"
     ]
    }
   ],
   "source": [
    "X = np.array([  [73., 62., 18.],\n",
    "                [27., 75., 63.],\n",
    "                [23., 90., 58.],\n",
    "                [49., 23., 63.]])\n",
    "print(f'X has shape {X.shape}')\n",
    "X_mean = np.mean(X,axis=1)\n",
    "print(f'Row-wise mean {X_mean=}, with shape {X_mean.shape}')"
   ]
  },
  {
   "cell_type": "markdown",
   "metadata": {},
   "source": [
    "Hvis vi prøver å trekke fra X_mean direkte, vil NumPy prøve å \"padde\" til størrelse (1,4), som ikke er kompatibelt med størrelsen til X, (4,3)"
   ]
  },
  {
   "cell_type": "code",
   "execution_count": 25,
   "metadata": {},
   "outputs": [
    {
     "name": "stdout",
     "output_type": "stream",
     "text": [
      "operands could not be broadcast together with shapes (4,3) (4,) \n"
     ]
    }
   ],
   "source": [
    "try:\n",
    "    X_deviation = X - X_mean\n",
    "except ValueError as e:\n",
    "    print(e)"
   ]
  },
  {
   "cell_type": "markdown",
   "metadata": {},
   "source": [
    "Løsning 1: Vi kan iterere over hver kolonne i X og trekke fra verdiene \"manuelt\":"
   ]
  },
  {
   "cell_type": "code",
   "execution_count": 26,
   "metadata": {},
   "outputs": [
    {
     "name": "stdout",
     "output_type": "stream",
     "text": [
      "[[ 22.  11. -33.]\n",
      " [-28.  20.   8.]\n",
      " [-34.  33.   1.]\n",
      " [  4. -22.  18.]]\n"
     ]
    }
   ],
   "source": [
    "X_deviation = np.zeros(X.shape)  # Create zero-filled matrix same size as X\n",
    "for i in range(3): # 3 columns\n",
    "    X_deviation[:,i] = X[:,i] - X_mean\n",
    "\n",
    "print(X_deviation)"
   ]
  },
  {
   "cell_type": "markdown",
   "metadata": {},
   "source": [
    "Løsning 2: Vi kan sørge for at X_mean er et 2D array med 1 kolonne, heller enn en 1D vektor. Dette kan gjøres ved å bruke np.expand_dims(), eller ved å bruke keyword \"keepdims\" i np.mean()"
   ]
  },
  {
   "cell_type": "code",
   "execution_count": 27,
   "metadata": {},
   "outputs": [
    {
     "name": "stdout",
     "output_type": "stream",
     "text": [
      "Rowwise mean of X:\n",
      "[51. 55. 57. 45.]\n",
      "\n",
      "Mean vector with extra dimension inserted for axis 1:\n",
      "[[51.]\n",
      " [55.]\n",
      " [57.]\n",
      " [45.]]\n",
      "Shape (4, 1)\n",
      "\n",
      "Keeping original number of dimensions when calculating mean:\n",
      "[[51.]\n",
      " [55.]\n",
      " [57.]\n",
      " [45.]]\n",
      "\n",
      "Subtracting row-wise mean using broadcasting:\n",
      "[[ 22.  11. -33.]\n",
      " [-28.  20.   8.]\n",
      " [-34.  33.   1.]\n",
      " [  4. -22.  18.]]\n"
     ]
    }
   ],
   "source": [
    "print('Rowwise mean of X:')\n",
    "print(X_mean); print('')\n",
    "\n",
    "print('Mean vector with extra dimension inserted for axis 1:')\n",
    "X_mean1 = np.expand_dims(X_mean,axis=1)\n",
    "print(X_mean1) \n",
    "print(f'Shape {X_mean1.shape}'); print('')\n",
    "\n",
    "print('Keeping original number of dimensions when calculating mean:')\n",
    "X_mean2 = np.mean(X,axis=1,keepdims=True)\n",
    "print(X_mean2); print('')\n",
    "\n",
    "print('Subtracting row-wise mean using broadcasting:')\n",
    "print(X-X_mean1)\n"
   ]
  },
  {
   "cell_type": "code",
   "execution_count": null,
   "metadata": {},
   "outputs": [],
   "source": []
  }
 ],
 "metadata": {
  "kernelspec": {
   "display_name": "intro-ml-ai",
   "language": "python",
   "name": "python3"
  },
  "language_info": {
   "codemirror_mode": {
    "name": "ipython",
    "version": 3
   },
   "file_extension": ".py",
   "mimetype": "text/x-python",
   "name": "python",
   "nbconvert_exporter": "python",
   "pygments_lexer": "ipython3",
   "version": "3.10.12"
  },
  "orig_nbformat": 4
 },
 "nbformat": 4,
 "nbformat_minor": 2
}
