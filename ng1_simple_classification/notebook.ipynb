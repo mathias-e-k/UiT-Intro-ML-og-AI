{
 "cells": [
  {
   "cell_type": "code",
   "execution_count": 15,
   "metadata": {},
   "outputs": [],
   "source": [
    "from data import data_train\n",
    "mammals = [line[:-1] for line in data_train.values() if line[-1] == 1]\n",
    "birds = [line[:-1] for line in data_train.values() if line[-1] == 2]\n",
    "reptiles = [line[:-1] for line in data_train.values() if line[-1] == 3]\n",
    "fishs = [line[:-1] for line in data_train.values() if line[-1] == 4]\n",
    "amphibians = [line[:-1] for line in data_train.values() if line[-1] == 5]\n",
    "bugs = [line[:-1] for line in data_train.values() if line[-1] == 6]\n",
    "invertebrates = [line[:-1] for line in data_train.values() if line[-1] == 7]\n"
   ]
  },
  {
   "cell_type": "code",
   "execution_count": 16,
   "metadata": {},
   "outputs": [
    {
     "name": "stdout",
     "output_type": "stream",
     "text": [
      "['N/A', 0, 'N/A', 1, 'N/A', 'N/A', 'N/A', 'N/A', 1, 1, 0, 'N/A', 'N/A', 'N/A', 'N/A', 'N/A']\n"
     ]
    }
   ],
   "source": [
    "common_traits = mammals[0]\n",
    "for mammal in mammals[1:]:\n",
    "    for i, trait in enumerate(mammal):\n",
    "        if common_traits[i] != trait:\n",
    "            common_traits[i] = \"N/A\"\n",
    "print(common_traits)"
   ]
  },
  {
   "cell_type": "code",
   "execution_count": 17,
   "metadata": {},
   "outputs": [
    {
     "name": "stdout",
     "output_type": "stream",
     "text": [
      "[0, 1, 1, 0, 'N/A', 'N/A', 'N/A', 0, 1, 1, 0, 0, 2, 1, 'N/A', 'N/A']\n"
     ]
    }
   ],
   "source": [
    "common_traits = birds[0]\n",
    "for bird in birds[1:]:\n",
    "    for i, trait in enumerate(bird):\n",
    "        if common_traits[i] != trait:\n",
    "            common_traits[i] = \"N/A\"\n",
    "print(common_traits)"
   ]
  },
  {
   "cell_type": "code",
   "execution_count": 18,
   "metadata": {},
   "outputs": [
    {
     "name": "stdout",
     "output_type": "stream",
     "text": [
      "[0, 0, 1, 0, 0, 0, 'N/A', 'N/A', 1, 1, 0, 0, 'N/A', 1, 0, 'N/A']\n"
     ]
    }
   ],
   "source": [
    "common_traits = reptiles[0]\n",
    "for reptile in reptiles[1:]:\n",
    "    for i, trait in enumerate(reptile):\n",
    "        if common_traits[i] != trait:\n",
    "            common_traits[i] = \"N/A\"\n",
    "print(common_traits)"
   ]
  },
  {
   "cell_type": "code",
   "execution_count": 19,
   "metadata": {},
   "outputs": [
    {
     "name": "stdout",
     "output_type": "stream",
     "text": [
      "[0, 0, 1, 0, 0, 1, 'N/A', 1, 1, 0, 0, 1, 0, 1, 'N/A', 'N/A']\n"
     ]
    }
   ],
   "source": [
    "common_traits = fishs[0]\n",
    "for fish in fishs[1:]:\n",
    "    for i, trait in enumerate(fish):\n",
    "        if common_traits[i] != trait:\n",
    "            common_traits[i] = \"N/A\"\n",
    "print(common_traits)"
   ]
  },
  {
   "cell_type": "code",
   "execution_count": 20,
   "metadata": {},
   "outputs": [
    {
     "name": "stdout",
     "output_type": "stream",
     "text": [
      "[0, 0, 1, 0, 0, 1, 0, 1, 1, 1, 0, 0, 4, 0, 0, 0]\n"
     ]
    }
   ],
   "source": [
    "common_traits = amphibians[0]\n",
    "for amphibian in amphibians[1:]:\n",
    "    for i, trait in enumerate(amphibian):\n",
    "        if common_traits[i] != trait:\n",
    "            common_traits[i] = \"N/A\"\n",
    "print(common_traits)"
   ]
  },
  {
   "cell_type": "code",
   "execution_count": 21,
   "metadata": {},
   "outputs": [
    {
     "name": "stdout",
     "output_type": "stream",
     "text": [
      "['N/A', 0, 1, 0, 'N/A', 0, 'N/A', 0, 0, 1, 'N/A', 0, 6, 0, 'N/A', 0]\n"
     ]
    }
   ],
   "source": [
    "common_traits = bugs[0]\n",
    "for bug in bugs[1:]:\n",
    "    for i, trait in enumerate(bug):\n",
    "        if common_traits[i] != trait:\n",
    "            common_traits[i] = \"N/A\"\n",
    "print(common_traits)"
   ]
  },
  {
   "cell_type": "code",
   "execution_count": 22,
   "metadata": {},
   "outputs": [
    {
     "name": "stdout",
     "output_type": "stream",
     "text": [
      "[0, 0, 'N/A', 0, 0, 'N/A', 'N/A', 0, 0, 'N/A', 'N/A', 0, 'N/A', 'N/A', 0, 'N/A']\n"
     ]
    }
   ],
   "source": [
    "common_traits = invertebrates[0]\n",
    "for invertebrate in invertebrates[1:]:\n",
    "    for i, trait in enumerate(invertebrate):\n",
    "        if common_traits[i] != trait:\n",
    "            common_traits[i] = \"N/A\"\n",
    "print(common_traits)"
   ]
  },
  {
   "cell_type": "code",
   "execution_count": 1,
   "metadata": {},
   "outputs": [
    {
     "name": "stdout",
     "output_type": "stream",
     "text": [
      "[1.0, 0.0, 0.0, 1.0, 0.0, 0.0, 0.3333333333333333, 1.0, 1.0, 1.0, 0.0, 0.0, 4.0, 0.6666666666666666, 0.3333333333333333, 1.0]\n"
     ]
    }
   ],
   "source": [
    "animals = [\n",
    "    [1, 0, 0, 1, 0, 0, 1, 1, 1, 1, 0, 0, 4, 0, 0, 1, 1],  \n",
    "    [1, 0, 0, 1, 0, 0, 0, 1, 1, 1, 0, 0, 4, 1, 0, 1, 1], \n",
    "    [1, 0, 0, 1, 0, 0, 0, 1, 1, 1, 0, 0, 4, 1, 1, 1, 1]  \n",
    "]\n",
    "average = [0.0] * (len(animals[0]) - 1)\n",
    "\n",
    "# Sum up features\n",
    "for animal in animals:\n",
    "    for i, feature in enumerate(animal[:-1]):\n",
    "        average[i] += feature\n",
    "\n",
    "# divide by amount of animals\n",
    "average = [i / len(animals) for i in average]\n",
    "print(average)"
   ]
  }
 ],
 "metadata": {
  "kernelspec": {
   "display_name": ".venv",
   "language": "python",
   "name": "python3"
  },
  "language_info": {
   "codemirror_mode": {
    "name": "ipython",
    "version": 3
   },
   "file_extension": ".py",
   "mimetype": "text/x-python",
   "name": "python",
   "nbconvert_exporter": "python",
   "pygments_lexer": "ipython3",
   "version": "3.12.5"
  }
 },
 "nbformat": 4,
 "nbformat_minor": 2
}
